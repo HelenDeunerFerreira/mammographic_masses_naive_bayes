{
  "nbformat": 4,
  "nbformat_minor": 0,
  "metadata": {
    "colab": {
      "provenance": []
    },
    "kernelspec": {
      "name": "python3",
      "display_name": "Python 3"
    },
    "language_info": {
      "name": "python"
    }
  },
  "cells": [
    {
      "cell_type": "code",
      "execution_count": 24,
      "metadata": {
        "id": "_UApXDLuX3VJ"
      },
      "outputs": [],
      "source": [
        "import pandas as pd\n",
        "from sklearn.model_selection import train_test_split\n",
        "from sklearn.naive_bayes import GaussianNB\n",
        "from sklearn.metrics import confusion_matrix"
      ]
    },
    {
      "cell_type": "code",
      "source": [
        "colunas = [\"bi_rads\", \"age\", \"shape\", \"margin\", \"density\", \"severity\"]\n",
        "df = pd.read_csv('mammographic_masses.data', names = colunas, dtype = str, encoding= 'unicode_escape', on_bad_lines='skip', na_values='?')"
      ],
      "metadata": {
        "id": "di9HR6XsdFAf"
      },
      "execution_count": 13,
      "outputs": []
    },
    {
      "cell_type": "code",
      "source": [
        "df = df.fillna(0)"
      ],
      "metadata": {
        "id": "sOLjLyTnkPRI"
      },
      "execution_count": 14,
      "outputs": []
    },
    {
      "cell_type": "code",
      "source": [
        "X = df.drop(columns=['severity'], inplace = False)\n",
        "y = df.severity"
      ],
      "metadata": {
        "id": "D07t053UfRQz"
      },
      "execution_count": 15,
      "outputs": []
    },
    {
      "cell_type": "code",
      "source": [
        "X_train, X_test, Y_train, Y_test = train_test_split(X, y, train_size = 0.75, test_size = 0.25, stratify = y) "
      ],
      "metadata": {
        "id": "uLhQ9VIQibZG"
      },
      "execution_count": 16,
      "outputs": []
    },
    {
      "cell_type": "code",
      "source": [
        "gnb = GaussianNB()\n",
        "gnb.fit(X_train, Y_train)"
      ],
      "metadata": {
        "colab": {
          "base_uri": "https://localhost:8080/"
        },
        "id": "ox8kn42gfJYH",
        "outputId": "b9fb800d-35b9-417d-e73c-539dc473a81c"
      },
      "execution_count": 17,
      "outputs": [
        {
          "output_type": "execute_result",
          "data": {
            "text/plain": [
              "GaussianNB()"
            ]
          },
          "metadata": {},
          "execution_count": 17
        }
      ]
    },
    {
      "cell_type": "code",
      "source": [
        "y_pred = gnb.predict(X_test)  "
      ],
      "metadata": {
        "id": "1gDUBce6j60Y"
      },
      "execution_count": 22,
      "outputs": []
    },
    {
      "cell_type": "code",
      "source": [
        "y_pred"
      ],
      "metadata": {
        "colab": {
          "base_uri": "https://localhost:8080/"
        },
        "id": "cIdku660kGNo",
        "outputId": "b9951d96-cac4-4068-a9f1-8738203adcb3"
      },
      "execution_count": 23,
      "outputs": [
        {
          "output_type": "execute_result",
          "data": {
            "text/plain": [
              "array(['1', '1', '0', '1', '1', '0', '0', '1', '0', '1', '0', '1', '0',\n",
              "       '0', '1', '0', '0', '1', '1', '0', '0', '0', '0', '1', '0', '1',\n",
              "       '0', '0', '1', '1', '1', '0', '0', '1', '0', '1', '0', '1', '0',\n",
              "       '0', '0', '0', '0', '1', '1', '0', '0', '0', '1', '1', '1', '0',\n",
              "       '0', '0', '0', '0', '0', '1', '0', '0', '0', '1', '0', '1', '1',\n",
              "       '1', '1', '0', '1', '0', '0', '1', '0', '1', '0', '0', '0', '0',\n",
              "       '0', '0', '0', '1', '0', '0', '0', '0', '1', '1', '0', '0', '1',\n",
              "       '0', '0', '1', '0', '0', '0', '0', '0', '0', '1', '0', '0', '0',\n",
              "       '0', '0', '0', '1', '1', '1', '1', '0', '0', '1', '1', '0', '1',\n",
              "       '1', '1', '1', '0', '1', '0', '0', '0', '1', '1', '1', '1', '1',\n",
              "       '0', '0', '1', '1', '1', '0', '0', '1', '1', '0', '0', '1', '1',\n",
              "       '0', '0', '0', '1', '1', '1', '1', '1', '1', '1', '1', '1', '0',\n",
              "       '0', '1', '1', '1', '0', '0', '0', '1', '0', '1', '0', '0', '1',\n",
              "       '1', '1', '0', '0', '1', '0', '0', '1', '1', '0', '0', '0', '1',\n",
              "       '1', '1', '1', '1', '1', '0', '0', '1', '1', '0', '0', '0', '0',\n",
              "       '1', '1', '1', '1', '0', '0', '1', '1', '0', '1', '1', '0', '1',\n",
              "       '1', '1', '0', '0', '0', '1', '0', '0', '0', '1', '1', '1', '0',\n",
              "       '0', '0', '1', '1', '1', '0', '0', '0', '0', '0', '0', '0', '1',\n",
              "       '0', '0', '0', '0', '1', '0', '1'], dtype='<U1')"
            ]
          },
          "metadata": {},
          "execution_count": 23
        }
      ]
    },
    {
      "cell_type": "code",
      "source": [
        "cm = confusion_matrix(Y_test, y_pred) "
      ],
      "metadata": {
        "id": "GTwSK6rlkIR9"
      },
      "execution_count": 25,
      "outputs": []
    },
    {
      "cell_type": "code",
      "source": [
        "cm"
      ],
      "metadata": {
        "colab": {
          "base_uri": "https://localhost:8080/"
        },
        "id": "NNYgrQFHkRz3",
        "outputId": "89611870-c901-43ab-f9f9-0ce9baa61c6f"
      },
      "execution_count": 26,
      "outputs": [
        {
          "output_type": "execute_result",
          "data": {
            "text/plain": [
              "array([[105,  24],\n",
              "       [ 26,  86]])"
            ]
          },
          "metadata": {},
          "execution_count": 26
        }
      ]
    },
    {
      "cell_type": "markdown",
      "source": [
        "Variando o tamanho do conjunto de teste para 60%"
      ],
      "metadata": {
        "id": "uehQCo-Bkxsk"
      }
    },
    {
      "cell_type": "code",
      "source": [
        "X_train, X_test, Y_train, Y_test = train_test_split(X, y, train_size = 0.60, test_size = 0.40, stratify = y) "
      ],
      "metadata": {
        "id": "vekjb-IHk1In"
      },
      "execution_count": 27,
      "outputs": []
    },
    {
      "cell_type": "code",
      "source": [
        "gnb = GaussianNB()\n",
        "gnb.fit(X_train, Y_train)"
      ],
      "metadata": {
        "colab": {
          "base_uri": "https://localhost:8080/"
        },
        "id": "ea6uoVUelEMU",
        "outputId": "0194389f-eff6-41d9-ae36-62e22bc23ebb"
      },
      "execution_count": 28,
      "outputs": [
        {
          "output_type": "execute_result",
          "data": {
            "text/plain": [
              "GaussianNB()"
            ]
          },
          "metadata": {},
          "execution_count": 28
        }
      ]
    },
    {
      "cell_type": "code",
      "source": [
        "y_pred = gnb.predict(X_test)  "
      ],
      "metadata": {
        "id": "BIZRE3y5lIzU"
      },
      "execution_count": 29,
      "outputs": []
    },
    {
      "cell_type": "code",
      "source": [
        "y_pred"
      ],
      "metadata": {
        "colab": {
          "base_uri": "https://localhost:8080/"
        },
        "id": "Xi0nqvo5lKos",
        "outputId": "81b3ddd7-3b64-47ec-9eed-11521bad24a5"
      },
      "execution_count": 30,
      "outputs": [
        {
          "output_type": "execute_result",
          "data": {
            "text/plain": [
              "array(['1', '1', '0', '1', '1', '1', '1', '0', '0', '1', '0', '0', '1',\n",
              "       '0', '0', '0', '0', '0', '0', '0', '1', '0', '0', '0', '1', '0',\n",
              "       '0', '0', '1', '1', '1', '1', '1', '1', '0', '0', '0', '0', '0',\n",
              "       '0', '1', '1', '1', '1', '1', '1', '1', '0', '0', '1', '1', '1',\n",
              "       '1', '1', '1', '0', '0', '0', '0', '1', '0', '1', '0', '1', '0',\n",
              "       '1', '1', '0', '1', '0', '1', '0', '0', '0', '1', '0', '1', '0',\n",
              "       '1', '0', '0', '0', '0', '1', '0', '0', '0', '0', '1', '0', '1',\n",
              "       '1', '1', '0', '1', '1', '1', '1', '1', '0', '0', '1', '0', '0',\n",
              "       '1', '0', '0', '1', '1', '1', '1', '0', '0', '0', '0', '0', '0',\n",
              "       '0', '0', '1', '0', '0', '1', '1', '0', '0', '1', '0', '0', '0',\n",
              "       '0', '0', '0', '1', '0', '1', '0', '1', '1', '0', '1', '1', '1',\n",
              "       '1', '1', '0', '1', '0', '0', '1', '0', '0', '1', '1', '0', '1',\n",
              "       '0', '0', '1', '1', '1', '0', '0', '0', '0', '0', '1', '0', '0',\n",
              "       '0', '1', '1', '1', '1', '0', '1', '1', '0', '1', '0', '1', '1',\n",
              "       '0', '1', '0', '0', '0', '0', '0', '1', '0', '0', '1', '0', '0',\n",
              "       '0', '0', '1', '1', '0', '0', '0', '0', '0', '0', '1', '0', '1',\n",
              "       '1', '0', '1', '0', '0', '0', '1', '1', '1', '0', '0', '1', '0',\n",
              "       '0', '0', '1', '0', '0', '1', '0', '0', '0', '1', '0', '0', '0',\n",
              "       '0', '1', '0', '1', '1', '0', '0', '1', '1', '0', '0', '1', '0',\n",
              "       '1', '0', '0', '0', '0', '0', '1', '1', '1', '0', '1', '0', '0',\n",
              "       '1', '0', '0', '0', '1', '0', '1', '1', '1', '0', '0', '1', '0',\n",
              "       '0', '1', '1', '0', '0', '0', '0', '0', '1', '0', '0', '1', '0',\n",
              "       '1', '1', '1', '0', '0', '0', '0', '0', '0', '1', '0', '1', '1',\n",
              "       '1', '1', '0', '0', '0', '1', '1', '0', '0', '1', '1', '1', '1',\n",
              "       '0', '1', '0', '0', '1', '0', '0', '0', '0', '0', '0', '0', '1',\n",
              "       '1', '0', '0', '1', '1', '0', '1', '1', '0', '0', '0', '0', '0',\n",
              "       '1', '0', '1', '0', '0', '0', '0', '1', '1', '0', '0', '1', '0',\n",
              "       '1', '1', '0', '0', '1', '1', '1', '0', '0', '0', '0', '0', '1',\n",
              "       '1', '0', '1', '1', '0', '0', '0', '0', '0', '1', '0', '1', '1',\n",
              "       '1', '0', '1', '0', '1', '0', '1', '0'], dtype='<U1')"
            ]
          },
          "metadata": {},
          "execution_count": 30
        }
      ]
    },
    {
      "cell_type": "code",
      "source": [
        "cm = confusion_matrix(Y_test, y_pred) "
      ],
      "metadata": {
        "id": "v19JwM91lNi8"
      },
      "execution_count": 31,
      "outputs": []
    },
    {
      "cell_type": "code",
      "source": [
        "cm"
      ],
      "metadata": {
        "colab": {
          "base_uri": "https://localhost:8080/"
        },
        "id": "bCsgPlJhlOfU",
        "outputId": "96265bf5-cf0d-4c16-894a-59e7b08c234a"
      },
      "execution_count": 32,
      "outputs": [
        {
          "output_type": "execute_result",
          "data": {
            "text/plain": [
              "array([[175,  32],\n",
              "       [ 44, 134]])"
            ]
          },
          "metadata": {},
          "execution_count": 32
        }
      ]
    },
    {
      "cell_type": "markdown",
      "source": [
        "Variando o tamanho do conjunto de teste para 90%"
      ],
      "metadata": {
        "id": "48Q-j9fZlSHN"
      }
    },
    {
      "cell_type": "code",
      "source": [
        "X_train, X_test, Y_train, Y_test = train_test_split(X, y, train_size = 0.90, test_size = 0.10, stratify = y) "
      ],
      "metadata": {
        "id": "Ey0FHlYVlhqF"
      },
      "execution_count": 34,
      "outputs": []
    },
    {
      "cell_type": "code",
      "source": [
        "gnb = GaussianNB()\n",
        "gnb.fit(X_train, Y_train)"
      ],
      "metadata": {
        "colab": {
          "base_uri": "https://localhost:8080/"
        },
        "id": "3w5qY0HOlhzw",
        "outputId": "52f552c4-1f73-46f3-e81c-37088a8a6bbe"
      },
      "execution_count": 35,
      "outputs": [
        {
          "output_type": "execute_result",
          "data": {
            "text/plain": [
              "GaussianNB()"
            ]
          },
          "metadata": {},
          "execution_count": 35
        }
      ]
    },
    {
      "cell_type": "code",
      "source": [
        "y_pred = gnb.predict(X_test)  "
      ],
      "metadata": {
        "id": "gVfzW_pnlh9A"
      },
      "execution_count": 36,
      "outputs": []
    },
    {
      "cell_type": "code",
      "source": [
        "y_pred"
      ],
      "metadata": {
        "colab": {
          "base_uri": "https://localhost:8080/"
        },
        "id": "4LQSDhsQliCc",
        "outputId": "8b0264c2-60c3-49bd-d118-4067e56f044a"
      },
      "execution_count": 37,
      "outputs": [
        {
          "output_type": "execute_result",
          "data": {
            "text/plain": [
              "array(['0', '1', '0', '0', '0', '0', '0', '0', '0', '0', '0', '0', '1',\n",
              "       '1', '0', '1', '0', '0', '1', '0', '0', '0', '1', '1', '0', '0',\n",
              "       '1', '1', '0', '1', '1', '0', '1', '0', '1', '1', '1', '0', '0',\n",
              "       '0', '1', '0', '0', '0', '0', '0', '1', '1', '1', '0', '0', '0',\n",
              "       '0', '0', '0', '0', '1', '1', '0', '0', '0', '1', '0', '0', '0',\n",
              "       '1', '1', '1', '0', '1', '1', '0', '1', '0', '1', '0', '0', '0',\n",
              "       '1', '0', '1', '0', '1', '1', '0', '1', '0', '1', '1', '1', '1',\n",
              "       '1', '1', '1', '0', '0', '1'], dtype='<U1')"
            ]
          },
          "metadata": {},
          "execution_count": 37
        }
      ]
    },
    {
      "cell_type": "code",
      "source": [
        "cm = confusion_matrix(Y_test, y_pred) "
      ],
      "metadata": {
        "id": "Rf5o5wwvliGl"
      },
      "execution_count": 38,
      "outputs": []
    },
    {
      "cell_type": "code",
      "source": [
        "cm"
      ],
      "metadata": {
        "colab": {
          "base_uri": "https://localhost:8080/"
        },
        "id": "OxwujGKlluHW",
        "outputId": "a76506db-75f6-4235-e990-edf7df141bbb"
      },
      "execution_count": 39,
      "outputs": [
        {
          "output_type": "execute_result",
          "data": {
            "text/plain": [
              "array([[42, 10],\n",
              "       [13, 32]])"
            ]
          },
          "metadata": {},
          "execution_count": 39
        }
      ]
    },
    {
      "cell_type": "markdown",
      "source": [
        "Substituindo valores faltantes por 0"
      ],
      "metadata": {
        "id": "xsnU9nh6lx1g"
      }
    },
    {
      "cell_type": "code",
      "source": [
        "X = X.fillna(0)"
      ],
      "metadata": {
        "id": "JGfs77ahl0ro"
      },
      "execution_count": 40,
      "outputs": []
    },
    {
      "cell_type": "code",
      "source": [
        "X_train, X_test, Y_train, Y_test = train_test_split(X, y, train_size = 0.75, test_size = 0.25, stratify = y) "
      ],
      "metadata": {
        "id": "F-vpxCKPmkbZ"
      },
      "execution_count": 41,
      "outputs": []
    },
    {
      "cell_type": "code",
      "source": [
        "gnb = GaussianNB()\n",
        "gnb.fit(X_train, Y_train)"
      ],
      "metadata": {
        "colab": {
          "base_uri": "https://localhost:8080/"
        },
        "id": "YVz_2pBamkkU",
        "outputId": "44292a4b-5937-4f03-ff17-0b36ba0b07ab"
      },
      "execution_count": 42,
      "outputs": [
        {
          "output_type": "execute_result",
          "data": {
            "text/plain": [
              "GaussianNB()"
            ]
          },
          "metadata": {},
          "execution_count": 42
        }
      ]
    },
    {
      "cell_type": "code",
      "source": [
        "y_pred = gnb.predict(X_test) "
      ],
      "metadata": {
        "id": "GwlP_VhBmkqZ"
      },
      "execution_count": 43,
      "outputs": []
    },
    {
      "cell_type": "code",
      "source": [
        "y_pred"
      ],
      "metadata": {
        "colab": {
          "base_uri": "https://localhost:8080/"
        },
        "id": "s5sBX9c8mkws",
        "outputId": "d2cf454f-1863-4e52-da12-34ef845e0bec"
      },
      "execution_count": 44,
      "outputs": [
        {
          "output_type": "execute_result",
          "data": {
            "text/plain": [
              "array(['1', '0', '0', '1', '0', '0', '0', '1', '0', '0', '1', '1', '0',\n",
              "       '0', '0', '0', '1', '0', '0', '0', '1', '0', '0', '1', '0', '1',\n",
              "       '1', '1', '0', '1', '0', '1', '0', '0', '1', '0', '1', '0', '1',\n",
              "       '0', '1', '1', '0', '1', '0', '1', '0', '1', '1', '0', '0', '1',\n",
              "       '1', '0', '0', '0', '0', '0', '0', '0', '0', '0', '0', '0', '1',\n",
              "       '0', '0', '0', '1', '1', '0', '1', '0', '0', '1', '1', '1', '0',\n",
              "       '1', '0', '1', '1', '0', '0', '1', '0', '1', '0', '0', '0', '1',\n",
              "       '0', '0', '0', '0', '0', '1', '1', '1', '0', '0', '1', '0', '0',\n",
              "       '1', '1', '0', '1', '0', '1', '0', '0', '0', '0', '0', '0', '1',\n",
              "       '0', '1', '1', '0', '1', '0', '1', '0', '1', '0', '1', '0', '1',\n",
              "       '0', '0', '1', '1', '1', '1', '0', '1', '0', '1', '1', '0', '0',\n",
              "       '0', '0', '1', '0', '1', '0', '1', '1', '0', '0', '0', '0', '0',\n",
              "       '0', '1', '1', '0', '1', '0', '0', '0', '0', '0', '1', '1', '1',\n",
              "       '0', '0', '0', '0', '0', '0', '0', '0', '1', '0', '1', '0', '1',\n",
              "       '1', '1', '0', '0', '0', '0', '1', '1', '0', '1', '0', '1', '1',\n",
              "       '0', '0', '0', '0', '1', '0', '1', '1', '1', '0', '0', '1', '0',\n",
              "       '0', '0', '1', '0', '1', '0', '1', '1', '1', '0', '0', '1', '1',\n",
              "       '1', '1', '0', '1', '1', '0', '1', '1', '1', '0', '1', '1', '0',\n",
              "       '0', '1', '0', '1', '1', '1', '0'], dtype='<U1')"
            ]
          },
          "metadata": {},
          "execution_count": 44
        }
      ]
    },
    {
      "cell_type": "code",
      "source": [
        "cm = confusion_matrix(Y_test, y_pred) "
      ],
      "metadata": {
        "id": "M9OANftPmk7G"
      },
      "execution_count": 45,
      "outputs": []
    },
    {
      "cell_type": "code",
      "source": [
        "cm"
      ],
      "metadata": {
        "colab": {
          "base_uri": "https://localhost:8080/"
        },
        "id": "MtXy1Mv5mlBg",
        "outputId": "a89faac1-669e-455e-b5e6-dbc0c9ee8e00"
      },
      "execution_count": 46,
      "outputs": [
        {
          "output_type": "execute_result",
          "data": {
            "text/plain": [
              "array([[111,  18],\n",
              "       [ 25,  87]])"
            ]
          },
          "metadata": {},
          "execution_count": 46
        }
      ]
    }
  ]
}